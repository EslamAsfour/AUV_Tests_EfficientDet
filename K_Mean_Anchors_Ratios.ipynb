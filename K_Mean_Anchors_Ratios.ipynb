{
  "nbformat": 4,
  "nbformat_minor": 0,
  "metadata": {
    "colab": {
      "name": "K-Mean_Anchors_Ratios.ipynb",
      "provenance": [],
      "collapsed_sections": [],
      "authorship_tag": "ABX9TyMMtAjYqESETixnid6SHPt+",
      "include_colab_link": true
    },
    "kernelspec": {
      "name": "python3",
      "display_name": "Python 3"
    }
  },
  "cells": [
    {
      "cell_type": "markdown",
      "metadata": {
        "id": "view-in-github",
        "colab_type": "text"
      },
      "source": [
        "<a href=\"https://colab.research.google.com/github/EslamAsfour/AUV_Tests_EfficientDet/blob/main/K_Mean_Anchors_Ratios.ipynb\" target=\"_parent\"><img src=\"https://colab.research.google.com/assets/colab-badge.svg\" alt=\"Open In Colab\"/></a>"
      ]
    },
    {
      "cell_type": "markdown",
      "metadata": {
        "id": "vGFiypfpTks0"
      },
      "source": [
        "#Clone the Github Repo"
      ]
    },
    {
      "cell_type": "code",
      "metadata": {
        "colab": {
          "base_uri": "https://localhost:8080/"
        },
        "id": "Hd-g4kJ1Nzf6",
        "outputId": "76cfe0a6-77da-458f-947c-6905e2777431"
      },
      "source": [
        "! git clone https://github.com/mnslarcher/kmeans-anchors-ratios.git"
      ],
      "execution_count": 1,
      "outputs": [
        {
          "output_type": "stream",
          "text": [
            "Cloning into 'kmeans-anchors-ratios'...\n",
            "remote: Enumerating objects: 103, done.\u001b[K\n",
            "remote: Counting objects: 100% (103/103), done.\u001b[K\n",
            "remote: Compressing objects: 100% (69/69), done.\u001b[K\n",
            "remote: Total 103 (delta 61), reused 65 (delta 30), pack-reused 0\u001b[K\n",
            "Receiving objects: 100% (103/103), 32.70 KiB | 6.54 MiB/s, done.\n",
            "Resolving deltas: 100% (61/61), done.\n"
          ],
          "name": "stdout"
        }
      ]
    },
    {
      "cell_type": "code",
      "metadata": {
        "colab": {
          "base_uri": "https://localhost:8080/"
        },
        "id": "Mknhb-0XOIvb",
        "outputId": "d7d223a7-4deb-4c96-e3ea-303028a61981"
      },
      "source": [
        "cd kmeans-anchors-ratios/"
      ],
      "execution_count": 2,
      "outputs": [
        {
          "output_type": "stream",
          "text": [
            "/content/kmeans-anchors-ratios\n"
          ],
          "name": "stdout"
        }
      ]
    },
    {
      "cell_type": "code",
      "metadata": {
        "colab": {
          "base_uri": "https://localhost:8080/"
        },
        "id": "Lp72fExfOLNP",
        "outputId": "59a349f2-32b2-42a9-ffb7-086d8f4cbffe"
      },
      "source": [
        "import json\r\n",
        "import numpy as np\r\n",
        "import os\r\n",
        "\r\n",
        "%load_ext autoreload\r\n",
        "%autoreload 2"
      ],
      "execution_count": 4,
      "outputs": [
        {
          "output_type": "stream",
          "text": [
            "The autoreload extension is already loaded. To reload it, use:\n",
            "  %reload_ext autoreload\n"
          ],
          "name": "stdout"
        }
      ]
    },
    {
      "cell_type": "code",
      "metadata": {
        "colab": {
          "base_uri": "https://localhost:8080/"
        },
        "id": "DUlBtyVPPgla",
        "outputId": "fb72e2c6-2a68-4301-903d-c5fd73701ad6"
      },
      "source": [
        "!pip install -r requirements.txt"
      ],
      "execution_count": 5,
      "outputs": [
        {
          "output_type": "stream",
          "text": [
            "Requirement already satisfied: tqdm in /usr/local/lib/python3.6/dist-packages (from -r requirements.txt (line 1)) (4.41.1)\n"
          ],
          "name": "stdout"
        }
      ]
    },
    {
      "cell_type": "markdown",
      "metadata": {
        "id": "QrPbxYgJTpkW"
      },
      "source": [
        "#GDrive Mount"
      ]
    },
    {
      "cell_type": "code",
      "metadata": {
        "colab": {
          "base_uri": "https://localhost:8080/"
        },
        "id": "tgeTj-xdPsmD",
        "outputId": "ca497084-3625-409d-ab36-a1cb5e81e4a1"
      },
      "source": [
        "from google.colab import drive\r\n",
        "drive.mount('/content/gdrive')"
      ],
      "execution_count": 6,
      "outputs": [
        {
          "output_type": "stream",
          "text": [
            "Mounted at /content/gdrive\n"
          ],
          "name": "stdout"
        }
      ]
    },
    {
      "cell_type": "markdown",
      "metadata": {
        "id": "PXxiQTAITsHa"
      },
      "source": [
        "#Copy Dataset to the Repo Folder"
      ]
    },
    {
      "cell_type": "code",
      "metadata": {
        "id": "uvIhgnqpP_Es"
      },
      "source": [
        "cp /content/gdrive/MyDrive/Dataset_All_Classes.rar /content/kmeans-anchors-ratios"
      ],
      "execution_count": 10,
      "outputs": []
    },
    {
      "cell_type": "code",
      "metadata": {
        "id": "0XrrfEY2QY6L"
      },
      "source": [
        "mkdir dataset"
      ],
      "execution_count": 13,
      "outputs": []
    },
    {
      "cell_type": "code",
      "metadata": {
        "id": "FDoWW6n5QlnT"
      },
      "source": [
        "!unrar x  \"/content/kmeans-anchors-ratios/Dataset_All_Classes.rar\" \"dataset/\""
      ],
      "execution_count": null,
      "outputs": []
    },
    {
      "cell_type": "markdown",
      "metadata": {
        "id": "ISqPDC_nTxPi"
      },
      "source": [
        "#Path To the Training Annotations JSON file"
      ]
    },
    {
      "cell_type": "code",
      "metadata": {
        "id": "UcxiJhFCQvwr"
      },
      "source": [
        "INSTANCES_PATH = \"/content/kmeans-anchors-ratios/dataset/Dataset_All_Classes/annotations/annotations_Train.json\"  "
      ],
      "execution_count": 15,
      "outputs": []
    },
    {
      "cell_type": "code",
      "metadata": {
        "id": "poJjRRi7RAy8"
      },
      "source": [
        "with open(INSTANCES_PATH) as f:\r\n",
        "    instances = json.load(f)"
      ],
      "execution_count": 16,
      "outputs": []
    },
    {
      "cell_type": "markdown",
      "metadata": {
        "id": "FwWGxS31T51M"
      },
      "source": [
        "#Get optimal anchors ratios"
      ]
    },
    {
      "cell_type": "code",
      "metadata": {
        "colab": {
          "base_uri": "https://localhost:8080/"
        },
        "id": "1uEudzjxRGst",
        "outputId": "0496027e-8ec5-46f7-f11d-4d3a77632392"
      },
      "source": [
        "## change the following parameters according to your model:\r\n",
        "\r\n",
        "# EfficientDetD{PHI}\r\n",
        "PHI = 0  # for another efficientdet change only this, e.g. PHI = 3 for D3\r\n",
        "\r\n",
        "\r\n",
        "#------------ Added 416 --------------------------- #\r\n",
        "input_sizes = [416 ,512, 640, 768, 896, 1024, 1280, 1280, 1536, 1536]\r\n",
        "pyramid_levels = [5, 5, 5, 5, 5, 5, 5, 5, 6]\r\n",
        "anchor_scale = [4.0, 4.0, 4.0, 4.0, 4.0, 4.0, 4.0, 5.0, 4.0]\r\n",
        "\r\n",
        "scale = anchor_scale[PHI]\r\n",
        "strides = 2 ** np.arange(3, pyramid_levels[PHI] + 3)\r\n",
        "scales = np.array([2 ** 0, 2 ** (1.0 / 3.0), 2 ** (2.0 / 3.0)])\r\n",
        "\r\n",
        "INPUT_SIZE = input_sizes[PHI]\r\n",
        "ANCHORS_SIZES = (scale * scales * strides[:, np.newaxis]).flatten().tolist()\r\n",
        "ANCHORS_SIZES"
      ],
      "execution_count": 18,
      "outputs": [
        {
          "output_type": "execute_result",
          "data": {
            "text/plain": [
              "[32.0,\n",
              " 40.31747359663594,\n",
              " 50.79683366298238,\n",
              " 64.0,\n",
              " 80.63494719327188,\n",
              " 101.59366732596476,\n",
              " 128.0,\n",
              " 161.26989438654377,\n",
              " 203.18733465192952,\n",
              " 256.0,\n",
              " 322.53978877308754,\n",
              " 406.37466930385904,\n",
              " 512.0,\n",
              " 645.0795775461751,\n",
              " 812.7493386077181]"
            ]
          },
          "metadata": {
            "tags": []
          },
          "execution_count": 18
        }
      ]
    },
    {
      "cell_type": "code",
      "metadata": {
        "colab": {
          "base_uri": "https://localhost:8080/"
        },
        "id": "oI2cByrpR3c0",
        "outputId": "cf0dc133-c08d-4491-a0e8-32f98a85e557"
      },
      "source": [
        "from kmeans_anchors_ratios import get_optimal_anchors_ratios\r\n",
        "\r\n",
        "anchors_ratios = get_optimal_anchors_ratios(\r\n",
        "    instances,\r\n",
        "    anchors_sizes=ANCHORS_SIZES,\r\n",
        "    input_size=INPUT_SIZE,\r\n",
        "    normalizes_bboxes=True,\r\n",
        "    num_runs=3,\r\n",
        "    num_anchors_ratios=3,\r\n",
        "    max_iter=300,\r\n",
        "    iou_threshold=0.5,\r\n",
        "    min_size=0,\r\n",
        "    decimals=1,\r\n",
        "    default_anchors_ratios=[(0.7, 1.4), (1.0, 1.0), (1.4, 0.7)]\r\n",
        ")"
      ],
      "execution_count": 20,
      "outputs": [
        {
          "output_type": "stream",
          "text": [
            "[12/17 20:01:14] Starting the calculation of the optimal anchors ratios\n",
            "[12/17 20:01:14] Extracting and preprocessing bounding boxes\n",
            "[12/17 20:01:14] Discarding 3 bounding boxes with size lower or equal to 0\n"
          ],
          "name": "stdout"
        },
        {
          "output_type": "stream",
          "text": [
            "[12/17 20:01:14] K-Means (3 runs): 100%|██████████████████| 3/3 [00:00<00:00, 65.19it/s]"
          ],
          "name": "stderr"
        },
        {
          "output_type": "stream",
          "text": [
            "\tRuns avg. IoU: 86.52% ± 0.00% (mean ± std. dev. of 3 runs, 0 skipped)\n",
            "\tAvg. IoU between bboxes and their most similar anchors after norm. them to make their area equal (only ratios matter): 86.52%\n",
            "[12/17 20:01:14] Default anchors ratios: [(0.7, 1.4), (1.0, 1.0), (1.4, 0.7)]\n",
            "\tAvg. IoU between bboxes and their most similar default anchors, no norm. (both ratios and sizes matter): 58.62%\n",
            "\tNum. bboxes without similar default anchors (IoU < 0.5):  2364/5542 (42.66%)\n",
            "[12/17 20:01:15] K-Means anchors ratios: [(0.3, 2.9), (0.7, 1.3), (1.0, 1.0)]\n",
            "\tAvg. IoU between bboxes and their most similar K-Means anchors, no norm. (both ratios and sizes matter): 67.24%\n",
            "\tNum. bboxes without similar K-Means anchors (IoU < 0.5):  1356/5542 (24.47%)\n",
            "[12/17 20:01:15] K-Means anchors have an IoU < 50% with bboxes in 18.19% less cases than the default anchors, you should consider to use them\n"
          ],
          "name": "stdout"
        },
        {
          "output_type": "stream",
          "text": [
            "\n"
          ],
          "name": "stderr"
        }
      ]
    },
    {
      "cell_type": "markdown",
      "metadata": {
        "id": "UTCoTETWS3IE"
      },
      "source": [
        "#Generate anchors given ratios and sizes"
      ]
    },
    {
      "cell_type": "code",
      "metadata": {
        "colab": {
          "base_uri": "https://localhost:8080/"
        },
        "id": "SY8x7yP8S250",
        "outputId": "c66ec97b-5349-4c26-b267-2f55f0da3dbb"
      },
      "source": [
        "from kmeans_anchors_ratios import generate_anchors_given_ratios_and_sizes\r\n",
        "\r\n",
        "\r\n",
        "anchors = generate_anchors_given_ratios_and_sizes(anchors_ratios, ANCHORS_SIZES)\r\n",
        "print(\"Anchors:\")\r\n",
        "print(anchors)"
      ],
      "execution_count": 21,
      "outputs": [
        {
          "output_type": "stream",
          "text": [
            "Anchors:\n",
            "[[   9.6          92.8       ]\n",
            " [  22.4          41.6       ]\n",
            " [  32.           32.        ]\n",
            " [  12.09524208  116.92067343]\n",
            " [  28.22223152   52.41271568]\n",
            " [  40.3174736    40.3174736 ]\n",
            " [  15.2390501   147.31081762]\n",
            " [  35.55778356   66.03588376]\n",
            " [  50.79683366   50.79683366]\n",
            " [  19.2         185.6       ]\n",
            " [  44.8          83.2       ]\n",
            " [  64.           64.        ]\n",
            " [  24.19048416  233.84134686]\n",
            " [  56.44446304  104.82543135]\n",
            " [  80.63494719   80.63494719]\n",
            " [  30.4781002   294.62163525]\n",
            " [  71.11556713  132.07176752]\n",
            " [ 101.59366733  101.59366733]\n",
            " [  38.4         371.2       ]\n",
            " [  89.6         166.4       ]\n",
            " [ 128.          128.        ]\n",
            " [  48.38096832  467.68269372]\n",
            " [ 112.88892607  209.6508627 ]\n",
            " [ 161.26989439  161.26989439]\n",
            " [  60.9562004   589.24327049]\n",
            " [ 142.23113426  264.14353505]\n",
            " [ 203.18733465  203.18733465]\n",
            " [  76.8         742.4       ]\n",
            " [ 179.2         332.8       ]\n",
            " [ 256.          256.        ]\n",
            " [  96.76193663  935.36538744]\n",
            " [ 225.77785214  419.30172541]\n",
            " [ 322.53978877  322.53978877]\n",
            " [ 121.91240079 1178.48654098]\n",
            " [ 284.46226851  528.2870701 ]\n",
            " [ 406.3746693   406.3746693 ]\n",
            " [ 153.6        1484.8       ]\n",
            " [ 358.4         665.6       ]\n",
            " [ 512.          512.        ]\n",
            " [ 193.52387326 1870.73077488]\n",
            " [ 451.55570428  838.60345081]\n",
            " [ 645.07957755  645.07957755]\n",
            " [ 243.82480158 2356.97308196]\n",
            " [ 568.92453703 1056.57414019]\n",
            " [ 812.74933861  812.74933861]]\n"
          ],
          "name": "stdout"
        }
      ]
    },
    {
      "cell_type": "markdown",
      "metadata": {
        "id": "P2JZvPLLS9zs"
      },
      "source": [
        "#Get bounding boxes adapted to the input size"
      ]
    },
    {
      "cell_type": "code",
      "metadata": {
        "colab": {
          "base_uri": "https://localhost:8080/"
        },
        "id": "Og03D3pOS-c0",
        "outputId": "ab404cf1-f790-4794-dd9a-61c322f015e7"
      },
      "source": [
        "from kmeans_anchors_ratios import get_bboxes_adapted_to_input_size\r\n",
        "\r\n",
        "\r\n",
        "resized_bboxes = get_bboxes_adapted_to_input_size(instances, input_size=INPUT_SIZE)\r\n",
        "resized_bboxes = resized_bboxes[resized_bboxes.prod(axis=1) > 0]  # remove 0 size\r\n",
        "print(\"Bounding boxes adapted to the input size (first 5):\")\r\n",
        "print(resized_bboxes[:5])"
      ],
      "execution_count": 22,
      "outputs": [
        {
          "output_type": "stream",
          "text": [
            "Bounding boxes adapted to the input size (first 5):\n",
            "[[ 44.   73.5]\n",
            " [ 81.5 158. ]\n",
            " [145.5 146. ]\n",
            " [ 16.   29. ]\n",
            " [ 43.   67. ]]\n"
          ],
          "name": "stdout"
        }
      ]
    },
    {
      "cell_type": "markdown",
      "metadata": {
        "id": "weGnwFWjTFM6"
      },
      "source": [
        "#Get the avg. IoU between the bounding boxes and their closest anchors"
      ]
    },
    {
      "cell_type": "code",
      "metadata": {
        "colab": {
          "base_uri": "https://localhost:8080/"
        },
        "id": "Gsg3xD_3TFcr",
        "outputId": "b33f451e-da35-4faf-a4a8-ce5e01a3b087"
      },
      "source": [
        "from kmeans_anchors_ratios import average_iou\r\n",
        "\r\n",
        "avg_iou = average_iou(resized_bboxes, anchors)\r\n",
        "print(f\"Avg. IoU: {100 * avg_iou:.2f}%\")"
      ],
      "execution_count": 23,
      "outputs": [
        {
          "output_type": "stream",
          "text": [
            "Avg. IoU: 67.24%\n"
          ],
          "name": "stdout"
        }
      ]
    },
    {
      "cell_type": "markdown",
      "metadata": {
        "id": "SM-Jev6WTOW1"
      },
      "source": [
        "#Get annotations whose bounding boxes don't have similar anchors"
      ]
    },
    {
      "cell_type": "code",
      "metadata": {
        "colab": {
          "base_uri": "https://localhost:8080/"
        },
        "id": "BGrhnrdPTOoq",
        "outputId": "64d20b54-e3ca-48d9-c883-9c2127fe695a"
      },
      "source": [
        "from kmeans_anchors_ratios import get_annotations_without_similar_anchors\r\n",
        "\r\n",
        "\r\n",
        "annotations = get_annotations_without_similar_anchors(\r\n",
        "    instances,\r\n",
        "    anchors_ratios,\r\n",
        "    anchors_sizes=ANCHORS_SIZES,\r\n",
        "    input_size=INPUT_SIZE,\r\n",
        "    iou_threshold=0.5,\r\n",
        "    min_size=0,\r\n",
        ")\r\n",
        "\r\n",
        "bboxes = [ann[\"bbox\"][-2:] for ann in annotations]  # widths and heights\r\n",
        "print(\"Bounding boxes without similar anchors (first 5):\")\r\n",
        "print(bboxes[:5])\r\n",
        "\r\n",
        "instances_without_similar_anchors = instances.copy()\r\n",
        "instances_without_similar_anchors[\"annotations\"] = annotations\r\n",
        "resized_bboxes = get_bboxes_adapted_to_input_size(instances_without_similar_anchors, input_size=INPUT_SIZE)\r\n",
        "print(\"Bounding boxes without similar anchors adapted to the input size (first 5):\")\r\n",
        "print(resized_bboxes[:5])"
      ],
      "execution_count": 24,
      "outputs": [
        {
          "output_type": "stream",
          "text": [
            "Bounding boxes without similar anchors (first 5):\n",
            "[[16, 29], [14.5, 23], [13, 28], [7.5, 13], [10, 19]]\n",
            "Bounding boxes without similar anchors adapted to the input size (first 5):\n",
            "[[16.  29. ]\n",
            " [14.5 23. ]\n",
            " [13.  28. ]\n",
            " [ 7.5 13. ]\n",
            " [10.  19. ]]\n"
          ],
          "name": "stdout"
        }
      ]
    }
  ]
}